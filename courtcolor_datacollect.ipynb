{
 "cells": [
  {
   "cell_type": "code",
   "execution_count": 20,
   "id": "c1d4001c-0bfb-46f8-a380-704edf164e91",
   "metadata": {
    "tags": []
   },
   "outputs": [],
   "source": [
    "import pandas as pd\n",
    "\n",
    "import sys\n",
    "\n",
    "import pandas as pd\n",
    "import time\n",
    "import numpy as np\n",
    "from nba_api.stats.endpoints import playercareerstats\n",
    "import nba_api.stats.endpoints as nbaapi\n",
    "\n",
    "pd.set_option('display.max_columns', 500)"
   ]
  },
  {
   "cell_type": "code",
   "execution_count": 27,
   "id": "aa54973d-81ff-4648-8305-eb7e50b5308f",
   "metadata": {},
   "outputs": [],
   "source": [
    "from nba_api.stats.static import players\n",
    "from nba_api.stats.static import teams\n",
    "\n",
    "# get_players returns a list of dictionaries, each representing a player.\n",
    "nba_players = players.get_players()\n",
    "nba_teams = teams.get_teams()\n",
    "\n",
    "nba_players = pd.DataFrame(nba_players)\n",
    "nba_teams = pd.DataFrame(nba_teams)\n",
    "\n",
    "active_plyaers = nba_players[nba_players['is_active']]\n",
    "\n",
    "seasons = []\n",
    "for i in list(range(1983,2024)):\n",
    "    seasons.append(str(i)+'-'+str(i+1)[2:])\n",
    "seasons = seasons[::-1]\n",
    "    \n",
    "### \n",
    "testplayer='203076'\n",
    "testgame = '0022201200'\n",
    "testteam = '1610612755'"
   ]
  },
  {
   "cell_type": "code",
   "execution_count": 132,
   "id": "9f70866f-8274-4829-a354-0ea60d0e8e07",
   "metadata": {},
   "outputs": [],
   "source": [
    "from nba_api.stats.endpoints import leaguegamefinder\n",
    "\n",
    "result = leaguegamefinder.LeagueGameFinder()\n",
    "all_games = result.get_data_frames()[0]\n",
    "\n",
    "listframe = []\n",
    "for i in seasons[:1]:\n",
    "    playerfinder = nbaapi.leaguedashplayerbiostats.LeagueDashPlayerBioStats(season=i).get_data_frames()[0]\n",
    "    playerfinder['season']=i\n",
    "    listframe.append(playerfinder)\n",
    "    time.sleep(.5)\n",
    "allplayers = pd.concat(listframe,axis=0)\n",
    "\n",
    "listframe = []\n",
    "for i in seasons[:1]:\n",
    "    gamefinder = leaguegamefinder.LeagueGameFinder(league_id_nullable='00', season_type_nullable=\"Regular Season\",season_nullable=i).get_data_frames()[0]\n",
    "    listframe.append(gamefinder)\n",
    "    time.sleep(1)\n",
    "gamehistory = pd.concat(listframe,axis=0)\n",
    "gamehistory['GAME_ID'] = pd.to_numeric(gamehistory['GAME_ID'])\n",
    "gamehistory['GAME_DATE'] = pd.to_datetime(gamehistory['GAME_DATE'])"
   ]
  },
  {
   "cell_type": "code",
   "execution_count": 29,
   "id": "afe41cd8-a8e5-407e-b531-e38fc2975830",
   "metadata": {},
   "outputs": [],
   "source": [
    "bxv2 = nbaapi.boxscoreadvancedv2.BoxScoreAdvancedV2(game_id=testgame).get_data_frames()\n"
   ]
  },
  {
   "cell_type": "code",
   "execution_count": 133,
   "id": "f60c1d47-2bc8-4644-99b6-b95e4ff7b3be",
   "metadata": {
    "tags": []
   },
   "outputs": [],
   "source": [
    "inseasondates = ['2023-11-03','2023-12-04','2023-12-05','2023-12-09']\n",
    "gamehistory.loc[gamehistory['GAME_DATE'].isin(inseasondates),'INSEASON']=1\n",
    "gamehistory.loc[(gamehistory['GAME_DATE'].dt.day.between(3,29)) & (gamehistory['GAME_DATE'].dt.month == 11) & (gamehistory['GAME_DATE'].dt.dayofweek.isin([1,4])),'INSEASON'] = 1\n",
    "gamehistory[gamehistory['INSEASON']==1].to_csv('test.csv')\n",
    "isgames = gamehistory[gamehistory['INSEASON']==1].GAME_ID.drop_duplicates()"
   ]
  },
  {
   "cell_type": "code",
   "execution_count": 134,
   "id": "47b2ba0a-9282-4e37-a66e-3e5fa9d6c2e4",
   "metadata": {
    "tags": []
   },
   "outputs": [
    {
     "data": {
      "text/plain": [
       "22     22301201\n",
       "23     22301203\n",
       "26     22301202\n",
       "27     22301204\n",
       "98     22300057\n",
       "         ...   \n",
       "458    22300002\n",
       "459    22300003\n",
       "460    22300005\n",
       "464    22300004\n",
       "465    22300001\n",
       "Name: GAME_ID, Length: 64, dtype: int64"
      ]
     },
     "execution_count": 134,
     "metadata": {},
     "output_type": "execute_result"
    }
   ],
   "source": [
    "isgames"
   ]
  },
  {
   "cell_type": "code",
   "execution_count": 137,
   "id": "d60ef34c-3747-45d4-93b4-4ceab185b0c4",
   "metadata": {
    "tags": []
   },
   "outputs": [],
   "source": []
  },
  {
   "cell_type": "code",
   "execution_count": null,
   "id": "c4ac4134-e9c6-4271-b7a0-049a6ed22aff",
   "metadata": {},
   "outputs": [],
   "source": []
  }
 ],
 "metadata": {
  "kernelspec": {
   "display_name": "Python 3 (ipykernel)",
   "language": "python",
   "name": "python3"
  },
  "language_info": {
   "codemirror_mode": {
    "name": "ipython",
    "version": 3
   },
   "file_extension": ".py",
   "mimetype": "text/x-python",
   "name": "python",
   "nbconvert_exporter": "python",
   "pygments_lexer": "ipython3",
   "version": "3.11.5"
  }
 },
 "nbformat": 4,
 "nbformat_minor": 5
}
