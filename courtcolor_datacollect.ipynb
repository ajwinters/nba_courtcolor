{
 "cells": [
  {
   "cell_type": "code",
   "execution_count": 4,
   "id": "c1d4001c-0bfb-46f8-a380-704edf164e91",
   "metadata": {
    "tags": []
   },
   "outputs": [],
   "source": [
    "import pandas as pd\n",
    "\n",
    "import sys\n",
    "\n",
    "import pandas as pd\n",
    "import time\n",
    "import numpy as np\n",
    "from nba_api.stats.endpoints import playercareerstats\n",
    "import nba_api.stats.endpoints as nbaapi\n",
    "\n",
    "pd.set_option('display.max_columns', 500)"
   ]
  },
  {
   "cell_type": "code",
   "execution_count": 5,
   "id": "aa54973d-81ff-4648-8305-eb7e50b5308f",
   "metadata": {},
   "outputs": [],
   "source": [
    "from nba_api.stats.static import players\n",
    "from nba_api.stats.static import teams\n",
    "\n",
    "# get_players returns a list of dictionaries, each representing a player.\n",
    "nba_players = players.get_players()\n",
    "nba_teams = teams.get_teams()\n",
    "\n",
    "nba_players = pd.DataFrame(nba_players)\n",
    "nba_teams = pd.DataFrame(nba_teams)\n",
    "\n",
    "active_plyaers = nba_players[nba_players['is_active']]\n",
    "\n",
    "seasons = []\n",
    "for i in list(range(1983,2024)):\n",
    "    seasons.append(str(i)+'-'+str(i+1)[2:])\n",
    "seasons = seasons[::-1]\n",
    "    \n",
    "### \n",
    "testplayer='203076'\n",
    "testgame = '0022201200'\n",
    "testteam = '1610612755'"
   ]
  },
  {
   "cell_type": "code",
   "execution_count": 118,
   "id": "9f70866f-8274-4829-a354-0ea60d0e8e07",
   "metadata": {},
   "outputs": [],
   "source": [
    "from nba_api.stats.endpoints import leaguegamefinder\n",
    "\n",
    "result = leaguegamefinder.LeagueGameFinder()\n",
    "all_games = result.get_data_frames()[0]\n",
    "\n",
    "listframe = []\n",
    "for i in seasons[:1]:\n",
    "    playerfinder = nbaapi.leaguedashplayerbiostats.LeagueDashPlayerBioStats(season=i).get_data_frames()[0]\n",
    "    playerfinder['season']=i\n",
    "    listframe.append(playerfinder)\n",
    "    time.sleep(.5)\n",
    "allplayers = pd.concat(listframe,axis=0)\n",
    "\n",
    "listframe = []\n",
    "for i in seasons[:1]:\n",
    "    gamefinder = leaguegamefinder.LeagueGameFinder(league_id_nullable='00', season_type_nullable=\"Regular Season\",season_nullable=i).get_data_frames()[0]\n",
    "    listframe.append(gamefinder)\n",
    "    time.sleep(1)\n",
    "gamehistory = pd.concat(listframe,axis=0)\n",
    "#gamehistory['GAME_ID'] = pd.to_numeric(gamehistory['GAME_ID'])\n",
    "gamehistory['GAME_DATE'] = pd.to_datetime(gamehistory['GAME_DATE'])"
   ]
  },
  {
   "cell_type": "code",
   "execution_count": null,
   "id": "afe41cd8-a8e5-407e-b531-e38fc2975830",
   "metadata": {},
   "outputs": [],
   "source": []
  },
  {
   "cell_type": "code",
   "execution_count": 128,
   "id": "f60c1d47-2bc8-4644-99b6-b95e4ff7b3be",
   "metadata": {
    "tags": []
   },
   "outputs": [],
   "source": [
    "inseasondates = ['2023-11-03','2023-12-04','2023-12-05']\n",
    "gamehistory.loc[gamehistory['GAME_DATE'].isin(inseasondates),'INSEASON']=1\n",
    "gamehistory.loc[(gamehistory['GAME_DATE'].dt.day.between(3,29)) & (gamehistory['GAME_DATE'].dt.month == 11) & (gamehistory['GAME_DATE'].dt.dayofweek.isin([1,4])),'INSEASON'] = 1\n",
    "#gamehistory[gamehistory['INSEASON']==1].to_csv('test.csv')\n",
    "\n",
    "isgames = gamehistory[gamehistory['INSEASON']==1].GAME_ID.drop_duplicates()\n",
    "hometeam = gamehistory[gamehistory['MATCHUP'].str.contains('vs')][['GAME_ID','TEAM_ID']].rename(columns={'TEAM_ID':'HOME_TEAM'})\n",
    "courtcolors = pd.read_csv('team_court_colors.csv')"
   ]
  },
  {
   "cell_type": "code",
   "execution_count": null,
   "id": "47b2ba0a-9282-4e37-a66e-3e5fa9d6c2e4",
   "metadata": {
    "tags": []
   },
   "outputs": [],
   "source": []
  },
  {
   "cell_type": "code",
   "execution_count": 129,
   "id": "d60ef34c-3747-45d4-93b4-4ceab185b0c4",
   "metadata": {
    "tags": []
   },
   "outputs": [],
   "source": [
    "# listframe = []\n",
    "# for i in gamehistory['GAME_ID'].astype(str):#.drop_duplicates():\n",
    "#     tempdf = nbaapi.boxscoretraditionalv2.BoxScoreTraditionalV2(game_id='00'+i).get_data_frames()[0]#[['GAME_ID','TEAM_ID','TEAM_ABBREVIATION','PLAYER_ID','PLAYER_NAME','MIN','SPD','DIST']]\n",
    "#     listframe.append(tempdf)\n",
    "#     time.sleep(3)\n",
    "# aggdf_player = pd.concat(listframe,axis=0)\n",
    "# aggdf_player.to_csv('./data/game_player.csv',index=None)\n"
   ]
  },
  {
   "cell_type": "code",
   "execution_count": 152,
   "id": "c4ac4134-e9c6-4271-b7a0-049a6ed22aff",
   "metadata": {
    "tags": []
   },
   "outputs": [],
   "source": [
    "df1 = aggdf_player.merge(hometeam,on='GAME_ID')\n",
    "df2 = df1.merge(courtcolors[['TEAM_ID','Major_Color','Minor_Color']],left_on='HOME_TEAM',right_on='TEAM_ID').drop(columns='TEAM_ID_y').rename(columns={'TEAM_ID_x':'TEAM_ID'})\n",
    "df3 = df2.merge(gamehistory[['GAME_ID','GAME_DATE']],on='GAME_ID')\n",
    "\n",
    "df3.loc[df3['GAME_ID'].isin(isgames),'inseason_tourney_game'] = True\n",
    "df3.loc[df3['inseason_tourney_game'].isnull(),'Major_Color'] = 'FDDCB9'\n",
    "df3.loc[df3['inseason_tourney_game'].isnull(),'Minor_Color'] = 'FDDCB9'\n",
    "\n",
    "df3['MajRed'] = df3['Major_Color'].map(lambda x: x[0:2]).apply(lambda x: int(x, 16))\n",
    "df3['MajGreen'] = df3['Major_Color'].map(lambda x: x[2:4]).apply(lambda x: int(x, 16))\n",
    "df3['MajBlue'] = df3['Major_Color'].map(lambda x: x[4:6]).apply(lambda x: int(x, 16))\n",
    "df3['MinRed'] = df3['Minor_Color'].map(lambda x: x[0:2]).apply(lambda x: int(x, 16))\n",
    "df3['MinGreen'] = df3['Minor_Color'].map(lambda x: x[2:4]).apply(lambda x: int(x, 16))\n",
    "df3['MinBlue'] = df3['Minor_Color'].map(lambda x: x[4:6]).apply(lambda x: int(x, 16))\n",
    "\n",
    "df3.to_csv('./data/master_data.csv',index=None)"
   ]
  },
  {
   "cell_type": "code",
   "execution_count": 144,
   "id": "835353f7-0715-4281-91ec-04a69f5860ae",
   "metadata": {
    "tags": []
   },
   "outputs": [],
   "source": []
  },
  {
   "cell_type": "code",
   "execution_count": 151,
   "id": "db593f7e-fea5-4a2b-add9-75919ee04ee6",
   "metadata": {
    "tags": []
   },
   "outputs": [],
   "source": []
  },
  {
   "cell_type": "code",
   "execution_count": 149,
   "id": "6c8fd73e-38d4-4f4d-bb15-fcc38e5dbe6b",
   "metadata": {
    "tags": []
   },
   "outputs": [],
   "source": []
  },
  {
   "cell_type": "code",
   "execution_count": null,
   "id": "902439ab-6e30-485a-89e5-d1e45c1a5a85",
   "metadata": {},
   "outputs": [],
   "source": []
  },
  {
   "cell_type": "code",
   "execution_count": null,
   "id": "77371a21-0678-4ac9-83c8-765cee6a9cba",
   "metadata": {},
   "outputs": [],
   "source": []
  }
 ],
 "metadata": {
  "kernelspec": {
   "display_name": "Python 3 (ipykernel)",
   "language": "python",
   "name": "python3"
  },
  "language_info": {
   "codemirror_mode": {
    "name": "ipython",
    "version": 3
   },
   "file_extension": ".py",
   "mimetype": "text/x-python",
   "name": "python",
   "nbconvert_exporter": "python",
   "pygments_lexer": "ipython3",
   "version": "3.11.5"
  }
 },
 "nbformat": 4,
 "nbformat_minor": 5
}
