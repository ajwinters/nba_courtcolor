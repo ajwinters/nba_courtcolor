{
 "cells": [
  {
   "cell_type": "code",
   "execution_count": 20,
   "id": "c1d4001c-0bfb-46f8-a380-704edf164e91",
   "metadata": {
    "tags": []
   },
   "outputs": [],
   "source": [
    "import pandas as pd\n",
    "\n",
    "import sys\n",
    "\n",
    "import pandas as pd\n",
    "import time\n",
    "import numpy as np\n",
    "from nba_api.stats.endpoints import playercareerstats\n",
    "import nba_api.stats.endpoints as nbaapi\n",
    "\n",
    "pd.set_option('display.max_columns', 500)"
   ]
  },
  {
   "cell_type": "code",
   "execution_count": 27,
   "id": "aa54973d-81ff-4648-8305-eb7e50b5308f",
   "metadata": {},
   "outputs": [],
   "source": [
    "from nba_api.stats.static import players\n",
    "from nba_api.stats.static import teams\n",
    "\n",
    "# get_players returns a list of dictionaries, each representing a player.\n",
    "nba_players = players.get_players()\n",
    "nba_teams = teams.get_teams()\n",
    "\n",
    "nba_players = pd.DataFrame(nba_players)\n",
    "nba_teams = pd.DataFrame(nba_teams)\n",
    "\n",
    "active_plyaers = nba_players[nba_players['is_active']]\n",
    "\n",
    "seasons = []\n",
    "for i in list(range(1983,2024)):\n",
    "    seasons.append(str(i)+'-'+str(i+1)[2:])\n",
    "seasons = seasons[::-1]\n",
    "    \n",
    "### \n",
    "testplayer='203076'\n",
    "testgame = '0022201200'\n",
    "testteam = '1610612755'"
   ]
  },
  {
   "cell_type": "code",
   "execution_count": 28,
   "id": "9f70866f-8274-4829-a354-0ea60d0e8e07",
   "metadata": {},
   "outputs": [],
   "source": [
    "from nba_api.stats.endpoints import leaguegamefinder\n",
    "\n",
    "result = leaguegamefinder.LeagueGameFinder()\n",
    "all_games = result.get_data_frames()[0]\n",
    "\n",
    "listframe = []\n",
    "for i in seasons[:1]:\n",
    "    playerfinder = nbaapi.leaguedashplayerbiostats.LeagueDashPlayerBioStats(season=i).get_data_frames()[0]\n",
    "    playerfinder['season']=i\n",
    "    listframe.append(playerfinder)\n",
    "    time.sleep(.5)\n",
    "allplayers = pd.concat(listframe,axis=0)\n",
    "\n",
    "listframe = []\n",
    "for i in seasons[:1]:\n",
    "    gamefinder = leaguegamefinder.LeagueGameFinder(league_id_nullable='00', season_type_nullable=\"Regular Season\",season_nullable=i).get_data_frames()[0]\n",
    "    listframe.append(gamefinder)\n",
    "    time.sleep(1)\n",
    "gamehistory = pd.concat(listframe,axis=0)\n",
    "gamehistory['GAME_ID'] = pd.to_numeric(gamehistory['GAME_ID'])"
   ]
  },
  {
   "cell_type": "code",
   "execution_count": 29,
   "id": "afe41cd8-a8e5-407e-b531-e38fc2975830",
   "metadata": {},
   "outputs": [],
   "source": [
    "bxv2 = nbaapi.boxscoreadvancedv2.BoxScoreAdvancedV2(game_id=testgame).get_data_frames()\n"
   ]
  },
  {
   "cell_type": "code",
   "execution_count": 63,
   "id": "7d9218c9-7e70-470d-ac9c-2826e1cc7aac",
   "metadata": {},
   "outputs": [],
   "source": [
    "gamehistory.loc[gamehistory.GAME_ID.astype(str).apply(lambda x: x[5]==\"0\" or x[6]==\"0\"),'INSEASON'] = True "
   ]
  },
  {
   "cell_type": "code",
   "execution_count": 65,
   "id": "83bd1f5e-79ad-4048-afce-d5c2924f3975",
   "metadata": {},
   "outputs": [],
   "source": [
    "isgames = gamehistory[gamehistory['INSEASON']==True]"
   ]
  },
  {
   "cell_type": "code",
   "execution_count": 66,
   "id": "c85c6726-30ce-4f13-83a3-1b96cd283098",
   "metadata": {
    "tags": []
   },
   "outputs": [],
   "source": [
    "isgames.to_csv('test.csv')"
   ]
  },
  {
   "cell_type": "code",
   "execution_count": 68,
   "id": "4e629d35-c5b5-4727-8758-a0fc94886879",
   "metadata": {
    "tags": []
   },
   "outputs": [
    {
     "data": {
      "text/plain": [
       "'22301204'"
      ]
     },
     "execution_count": 68,
     "metadata": {},
     "output_type": "execute_result"
    }
   ],
   "source": [
    "gamehistory.GAME_ID.astype(str)[6]"
   ]
  },
  {
   "cell_type": "code",
   "execution_count": null,
   "id": "73d6fa0f-e35d-4555-94b2-03432b69294f",
   "metadata": {},
   "outputs": [],
   "source": []
  }
 ],
 "metadata": {
  "kernelspec": {
   "display_name": "Python 3 (ipykernel)",
   "language": "python",
   "name": "python3"
  },
  "language_info": {
   "codemirror_mode": {
    "name": "ipython",
    "version": 3
   },
   "file_extension": ".py",
   "mimetype": "text/x-python",
   "name": "python",
   "nbconvert_exporter": "python",
   "pygments_lexer": "ipython3",
   "version": "3.11.5"
  }
 },
 "nbformat": 4,
 "nbformat_minor": 5
}
